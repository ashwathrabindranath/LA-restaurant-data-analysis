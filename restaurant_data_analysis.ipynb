{
 "cells": [
  {
   "cell_type": "code",
   "execution_count": 1,
   "metadata": {
    "collapsed": false
   },
   "outputs": [],
   "source": [
    "%matplotlib inline\n",
    "#Importing important packages.\n",
    "import pandas as pd, numpy as np, scipy, sklearn, re, requests\n",
    "from matplotlib import pyplot as plt\n",
    "import seaborn as sns\n",
    "#Loading restaurant inspection data into a Pandas dataframe.\n",
    "df = pd.read_csv(\"~/datascience/larestaurantdata/restaurant-and-market-health-inspections.csv\")\n",
    "#df['']"
   ]
  },
  {
   "cell_type": "code",
   "execution_count": 2,
   "metadata": {
    "collapsed": false
   },
   "outputs": [],
   "source": [
    "#Data Cleaning\n",
    "#Convert all strings to lower case\n",
    "for item in df.columns:\n",
    "    try:\n",
    "        df[item] = df[item].str.lower()\n",
    "    except:\n",
    "        pass\n",
    "#Convert active/inactive to 1/0 \n",
    "for item in ['program_status']:\n",
    "    df[item].replace(to_replace='active', value=1, inplace=True)\n",
    "    df[item].replace(to_replace='inactive',  value=0, inplace=True)\n",
    "df['service_code'].replace(to_replace=401,value=0,inplace=True)\n",
    "#Clean up ZIP codes by truncating additional data to keep 5-character ZIP code.\n",
    "df['facility_zip'] = df['facility_zip'].apply(lambda s : s[:5])\n",
    "\n",
    "#Function to extract info from pe_description\n",
    "def info_extract(string):\n",
    "    parts = re.findall('\\w+',string)\n",
    "    numberstuff = re.findall('\\(.*\\)',string)\n",
    "    restype = ''\n",
    "    done = 0\n",
    "    risktype = ''\n",
    "    for x in parts:\n",
    "        try:\n",
    "            int(x)\n",
    "            if(done == 0):\n",
    "                done=1\n",
    "        except:\n",
    "            if done ==0:\n",
    "                restype+=x\n",
    "                restype+=' '\n",
    "            else:\n",
    "                if(x!='seats' and x!='sf'):\n",
    "                    risktype+=x\n",
    "                    risktype+=' '\n",
    "    answer = []\n",
    "    if restype == 'food mkt retail ':\n",
    "        answer.append(0)\n",
    "    else:\n",
    "        answer.append(1)\n",
    "    if risktype == 'high risk ':\n",
    "        answer.append(2)\n",
    "    elif risktype == 'moderate risk ':\n",
    "        answer.append(1)\n",
    "    else:\n",
    "        answer.append(0)\n",
    "    if numberstuff[0] == '(0-30)':\n",
    "        answer.append([0,30])\n",
    "    elif numberstuff[0] == '(31-60)':\n",
    "        answer.append([31,60])\n",
    "    elif numberstuff[0] == '(61-150)':\n",
    "        answer.append([61,150])\n",
    "    elif numberstuff[0] == '(25-1,999 sf)':\n",
    "        answer.append([25,1999])\n",
    "    elif numberstuff[0] == '(151 + )':\n",
    "        answer.append([151,1000])\n",
    "    elif numberstuff[0] == '(2,000+ sf)':\n",
    "        answer.append([2000,4000])\n",
    "    answer.append(restype)\n",
    "    answer.append(risktype)\n",
    "    return [answer[0],answer[1],answer[2],answer[3],answer[4]]\n",
    "#Applying info_extract\n",
    "L = list(df['pe_description'].apply(info_extract).values)\n",
    "cols= ['res_code','risk_code','size','res_type','risk_type']\n",
    "df1 = pd.DataFrame(L,columns=cols)\n",
    "df = pd.concat([df,df1],axis=1)\n",
    "df['size'] = df['size'].apply(lambda x : (x[0]+x[1])/2)\n",
    "#Removing redundant columns\n",
    "df.drop(['facility_city','facility_state', 'pe_description','program_element_pe'],axis=1,inplace=True)\n",
    "#Geocoding \n",
    "def latlong(address):\n",
    "    params = {\n",
    "        'address': address,\n",
    "        'sensor': 'false',\n",
    "        'region': 'united states'\n",
    "    }\n",
    "    GOOGLE_MAPS_API_URL = 'http://maps.googleapis.com/maps/api/geocode/json'\n",
    "    # Do the request and get the response data\n",
    "    req = requests.get(GOOGLE_MAPS_API_URL, params=params)\n",
    "    res = req.json()\n",
    "\n",
    "    # Use the first result\n",
    "    try:\n",
    "        result = res['results'][0]\n",
    "    except:\n",
    "        return [None,None]\n",
    "    geodata = dict()\n",
    "    geodata['lat'] = result['geometry']['location']['lat']\n",
    "    geodata['lng'] = result['geometry']['location']['lng']\n",
    "    geodata['address'] = result['formatted_address']\n",
    "    print(result['formatted_address'])\n",
    "    return([geodata['lat'],geodata['lng']])"
   ]
  },
  {
   "cell_type": "code",
   "execution_count": 3,
   "metadata": {
    "collapsed": false
   },
   "outputs": [
    {
     "data": {
      "image/png": "[encoded data removed]",
      "text/plain": [
       "<matplotlib.figure.Figure at 0x10432de10>"
      ]
     },
     "metadata": {},
     "output_type": "display_data"
    },
    {
     "data": {
      "image/png": "[encoded data removed]",
      "text/plain": [
       "<matplotlib.figure.Figure at 0x1157be7b8>"
      ]
     },
     "metadata": {},
     "output_type": "display_data"
    },
    {
     "data": {
      "image/png": "[encoded data removed]",
      "text/plain": [
       "<matplotlib.figure.Figure at 0x117934908>"
      ]
     },
     "metadata": {},
     "output_type": "display_data"
    },
    {
     "data": {
      "image/png": "[encoded data removed]",
      "text/plain": [
       "<matplotlib.figure.Figure at 0x1157be358>"
      ]
     },
     "metadata": {},
     "output_type": "display_data"
    },
    {
     "data": {
      "image/png": "[encoded data removed]",
      "text/plain": [
       "<matplotlib.figure.Figure at 0x116fd1048>"
      ]
     },
     "metadata": {},
     "output_type": "display_data"
    },
    {
     "data": {
      "image/png": "[encoded data removed]",
      "text/plain": [
       "<matplotlib.figure.Figure at 0x1190229e8>"
      ]
     },
     "metadata": {},
     "output_type": "display_data"
    }
   ],
   "source": [
    "#Plot bar graphs for value counts and a density graph for score\n",
    "df['score'].plot(kind = 'kde')\n",
    "plt.title('Score density')\n",
    "plt.show()\n",
    "df['size'].value_counts().plot(kind='bar')\n",
    "plt.title('Size bar graph')\n",
    "plt.show()\n",
    "df['res_type'].value_counts().plot(kind='bar')\n",
    "plt.title('Restaurant Type')\n",
    "plt.show()\n",
    "df['risk_type'].value_counts().plot(kind='bar')\n",
    "plt.title('Risk Type')\n",
    "plt.show()\n",
    "df['service_description'].value_counts().plot(kind='bar')\n",
    "plt.title('Service Description Type')\n",
    "plt.show()\n",
    "df['grade'].value_counts().plot(kind='bar')\n",
    "plt.title('Grades')\n",
    "plt.show()"
   ]
  },
  {
   "cell_type": "markdown",
   "metadata": {},
   "source": [
    "We run the k-means algorithm with 9 prospective clusters on a subset of our dataframe which we call dffeatures which comprises of the columns labeled by 'score','service_code','program_status','res_code' and'risk_type'. We need to convert risk_type to dummies that capture the risk type as 0/1"
   ]
  },
  {
   "cell_type": "code",
   "execution_count": 4,
   "metadata": {
    "collapsed": false
   },
   "outputs": [],
   "source": [
    "dffeatures = df[['score','service_code','program_status','res_code','risk_type']]\n",
    "dffeatures = pd.get_dummies(dffeatures,columns=['risk_type']) \n",
    "from sklearn.cluster import KMeans\n",
    "from sklearn import preprocessing\n",
    "n_clusters = 9\n",
    "kmeans=KMeans(n_clusters=9)\n",
    "X = preprocessing.scale(dffeatures)\n",
    "kmeans.fit(X)\n",
    "dffeatures['cluster'] = kmeans.predict(X)"
   ]
  },
  {
   "cell_type": "code",
   "execution_count": 5,
   "metadata": {
    "collapsed": false
   },
   "outputs": [
    {
     "name": "stdout",
     "output_type": "stream",
     "text": [
      "95.36280487804878 1.0 1.0 0.0 1.0 2296\n",
      "93.41961545931248 1.0 1.0 1.0 0.0 25745\n",
      "94.33164759116316 1.0 0.9334575459142933 0.0 0.0 11271\n",
      "91.6117835122174 1.0 0.9095683946106417 0.9995432747202557 0.00045672527974423386 4379\n",
      "92.76488395560041 0.0 0.9434914228052472 0.7709384460141272 0.03632694248234107 991\n",
      "93.69915624090777 1.0 0.0 1.0 0.0 3437\n",
      "95.50517568158624 1.0 0.0 0.0 1.0 6859\n",
      "93.27696590118302 1.0 0.9519832985386222 0.0 0.0 1437\n",
      "82.1001221001221 1.0 0.9470899470899471 0.9116809116809117 0.009361009361009361 2457\n"
     ]
    }
   ],
   "source": [
    "for i in range(0,n_clusters):\n",
    "    temp = dffeatures[dffeatures['cluster']==i]\n",
    "    print(temp['score'].mean(), temp['service_code'].mean(), temp['res_code'].mean(), temp['risk_type_high risk '].mean(), temp['risk_type_low risk '].mean(),temp.shape[0])"
   ]
  },
  {
   "cell_type": "code",
   "execution_count": 6,
   "metadata": {
    "collapsed": false
   },
   "outputs": [],
   "source": [
    "dffeatures = dffeatures.drop(['cluster'],axis=1)"
   ]
  },
  {
   "cell_type": "markdown",
   "metadata": {},
   "source": [
    "Below, we run Logistic Regression, k-nearest neighbors, Random Forests and Naive Bayes on the data in dffeatures which have comparable predictive success when trying to predict res_code i.e. whether it's a restaurant or food market retail. "
   ]
  },
  {
   "cell_type": "code",
   "execution_count": 33,
   "metadata": {
    "collapsed": false
   },
   "outputs": [
    {
     "name": "stdout",
     "output_type": "stream",
     "text": [
      "0.877452229299\n"
     ]
    }
   ],
   "source": [
    "from sklearn.preprocessing import StandardScaler\n",
    "from sklearn.pipeline import Pipeline\n",
    "from sklearn.linear_model import LogisticRegression\n",
    "steps = [('scaler',StandardScaler()),\n",
    "        ('logistic_regression',LogisticRegression())]\n",
    "pipeline = Pipeline(steps)\n",
    "X = dffeatures.drop('res_code',axis=1).values\n",
    "y = dffeatures['res_code'].values\n",
    "\n",
    "from sklearn.model_selection import train_test_split\n",
    "X_train, X_test, y_train, y_test = train_test_split(X,y,test_size=0.2,random_state=42)\n",
    "\n",
    "logreg_scaled = pipeline.fit(X_train,y_train)\n",
    "y_pred = pipeline.predict(X_test)\n",
    "\n",
    "from sklearn.metrics import accuracy_score\n",
    "print(accuracy_score(y_test,y_pred))"
   ]
  },
  {
   "cell_type": "code",
   "execution_count": 42,
   "metadata": {
    "collapsed": false
   },
   "outputs": [
    {
     "name": "stdout",
     "output_type": "stream",
     "text": [
      "0.865392781316\n"
     ]
    }
   ],
   "source": [
    "from sklearn.neighbors import KNeighborsClassifier\n",
    "steps = [('scaler',StandardScaler()),\n",
    "        ('knn',KNeighborsClassifier())]\n",
    "pipeline = Pipeline(steps)\n",
    "X = dffeatures.drop('res_code',axis=1).values\n",
    "y = dffeatures['res_code'].values\n",
    "from sklearn.model_selection import train_test_split\n",
    "X_train, X_test, y_train, y_test = train_test_split(X,y,test_size=0.2)\n",
    "\n",
    "knn_scaled = pipeline.fit(X_train,y_train)\n",
    "y_pred = pipeline.predict(X_test)\n",
    "\n",
    "from sklearn.metrics import accuracy_score\n",
    "print(accuracy_score(y_test,y_pred))"
   ]
  },
  {
   "cell_type": "code",
   "execution_count": 43,
   "metadata": {
    "collapsed": false
   },
   "outputs": [
    {
     "name": "stdout",
     "output_type": "stream",
     "text": [
      "0.876772823779\n"
     ]
    }
   ],
   "source": [
    "from sklearn.naive_bayes import GaussianNB\n",
    "steps1 = [('scaler',StandardScaler()),\n",
    "        ('naive_bayes',GaussianNB())]\n",
    "pipeline = Pipeline(steps1)\n",
    "X = dffeatures.drop('res_code',axis=1).values\n",
    "y = dffeatures['res_code'].values\n",
    "from sklearn.model_selection import train_test_split\n",
    "X_train, X_test, y_train, y_test = train_test_split(X,y,test_size=0.2)\n",
    "\n",
    "naive_scaled = pipeline.fit(X_train,y_train)\n",
    "y_pred = pipeline.predict(X_test)\n",
    "\n",
    "from sklearn.metrics import accuracy_score\n",
    "print(accuracy_score(y_test,y_pred))"
   ]
  },
  {
   "cell_type": "code",
   "execution_count": 52,
   "metadata": {
    "collapsed": false
   },
   "outputs": [
    {
     "name": "stdout",
     "output_type": "stream",
     "text": [
      "0.88033970276\n"
     ]
    }
   ],
   "source": [
    "from sklearn.ensemble import RandomForestClassifier\n",
    "steps1 = [('scaler',StandardScaler()),\n",
    "        ('random_forest',RandomForestClassifier())]\n",
    "pipeline = Pipeline(steps1)\n",
    "X = dffeatures.drop('res_code',axis=1).values\n",
    "y = dffeatures['res_code'].values\n",
    "from sklearn.model_selection import train_test_split\n",
    "X_train, X_test, y_train, y_test = train_test_split(X,y,test_size=0.2)\n",
    "\n",
    "random_forest_scaled = pipeline.fit(X_train,y_train)\n",
    "y_pred = pipeline.predict(X_test)\n",
    "\n",
    "from sklearn.metrics import accuracy_score\n",
    "print(accuracy_score(y_test,y_pred))"
   ]
  }
 ],
 "metadata": {
  "kernelspec": {
   "display_name": "Python 3",
   "language": "python",
   "name": "python3"
  },
  "language_info": {
   "codemirror_mode": {
    "name": "ipython",
    "version": 3
   },
   "file_extension": ".py",
   "mimetype": "text/x-python",
   "name": "python",
   "nbconvert_exporter": "python",
   "pygments_lexer": "ipython3",
   "version": "3.5.1"
  }
 },
 "nbformat": 4,
 "nbformat_minor": 2
}
